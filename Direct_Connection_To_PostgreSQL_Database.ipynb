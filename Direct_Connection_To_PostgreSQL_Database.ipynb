{
 "cells": [
  {
   "cell_type": "code",
   "execution_count": 12,
   "metadata": {},
   "outputs": [],
   "source": [
    "import psycopg2"
   ]
  },
  {
   "cell_type": "code",
   "execution_count": 13,
   "metadata": {},
   "outputs": [],
   "source": [
    "# Connect in python to the database by creating a cursor object\n",
    "\n",
    "# The PostgreSQL server must be accessed through the\n",
    "# PostgreSQL APP or the Terminal Shell\n",
    "\n",
    "conn = psycopg2.connect(\"dbname=suppliers user=postgres password=postgres\")\n",
    "\n",
    "# Or:\n",
    "\n",
    "# conn = psycopg2.connect(host=\"localhost\",database=\"suppliers\", user=\"postgres\", password=\"postgres\")"
   ]
  },
  {
   "cell_type": "code",
   "execution_count": 14,
   "metadata": {},
   "outputs": [],
   "source": [
    "# Create a cursor object\n",
    "\n",
    "cur = conn.cursor()"
   ]
  },
  {
   "cell_type": "code",
   "execution_count": 21,
   "metadata": {},
   "outputs": [],
   "source": [
    "cur.execute(\"\"\"SELECT * FROM vendors\"\"\")\n",
    "query_results = cur.fetchall()"
   ]
  },
  {
   "cell_type": "code",
   "execution_count": 22,
   "metadata": {},
   "outputs": [
    {
     "data": {
      "text/plain": [
       "[(2, 'AKM Semiconductor Inc.'),\n",
       " (3, 'Asahi Glass Co Ltd.'),\n",
       " (4, 'Daikin Industries Ltd.'),\n",
       " (5, 'Dynacast International Inc.'),\n",
       " (6, 'Foster Electric Co. Ltd.'),\n",
       " (7, 'Murata Manufacturing Co. Ltd.'),\n",
       " (1, '3M Corp')]"
      ]
     },
     "execution_count": 22,
     "metadata": {},
     "output_type": "execute_result"
    }
   ],
   "source": [
    "query_results"
   ]
  },
  {
   "cell_type": "code",
   "execution_count": 23,
   "metadata": {},
   "outputs": [],
   "source": [
    "#Close the cursor and connection to so the server can allocate\n",
    "#bandwidth to other requests\n",
    "cur.close()\n",
    "conn.close()"
   ]
  },
  {
   "cell_type": "code",
   "execution_count": 24,
   "metadata": {},
   "outputs": [],
   "source": [
    "\n"
   ]
  }
 ],
 "metadata": {
  "kernelspec": {
   "display_name": "Python 3",
   "language": "python",
   "name": "python3"
  },
  "language_info": {
   "codemirror_mode": {
    "name": "ipython",
    "version": 3
   },
   "file_extension": ".py",
   "mimetype": "text/x-python",
   "name": "python",
   "nbconvert_exporter": "python",
   "pygments_lexer": "ipython3",
   "version": "3.7.2"
  }
 },
 "nbformat": 4,
 "nbformat_minor": 2
}
