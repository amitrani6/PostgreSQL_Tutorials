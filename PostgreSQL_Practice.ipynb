{
 "cells": [
  {
   "cell_type": "markdown",
   "metadata": {},
   "source": [
    "# PostgreSQL Practice\n",
    "\n",
    "This notebook will contain the work associated with postgresqltutorial.com's python tutorial\n",
    "\n",
    "Source: http://www.postgresqltutorial.com/postgresql-python/\n",
    "\n",
    "## Step 1: Create and connect to the 'suppliers' database in terminal\n",
    "\n",
    "Enter `/Applications/Postgres.app/Contents/Versions/12/bin/psql -p5432 \"database_name\"` where `database_name` is any existing database or the psql command if you already configured it"
   ]
  },
  {
   "cell_type": "code",
   "execution_count": 1,
   "metadata": {},
   "outputs": [],
   "source": [
    "# THIS CELL WAS THE ORIGINAL ATTEMPT, IGNORE IT\n",
    "\n",
    "# Steps adapted from https://stackoverflow.com/a/46877364\n",
    "\n",
    "# Install psycopg2 if not already on your computer\n",
    "\n",
    "# Step 1: Attempt to run the following in command line (Python 3):\n",
    "# sudo apt install libpq-dev python3-dev\n",
    "\n",
    "# A Java pop-up request may tell you:\n",
    "# \"To use the “apt” command-line tool you need to install a JDK.\" (Java Developer Kit)\n",
    "# This is because this package is written in C and adapted for python\n",
    "\n",
    "# You have a few options for each operating system compressed and uncompressed,\n",
    "# I selected jdk-13.0.1_osx-x64_bin.dmg\n",
    "# Run the sudo command after installation \n",
    "\n",
    "\n",
    "\n",
    "#!pip install psycopg2\n",
    "\n",
    "# If you are still having trouble try updating setup tools\n",
    "# !pip install --upgrade pip setuptools\n",
    "\n",
    "#sudo -H pip3 install gitsome"
   ]
  },
  {
   "cell_type": "code",
   "execution_count": 2,
   "metadata": {},
   "outputs": [],
   "source": [
    "# Adapted from https://stackoverflow.com/a/24645416\n",
    "\n",
    "# You need homebrew for this version\n",
    "\n",
    "# Step 1: Install Postgresql in terminal:\n",
    "# brew install postgresql\n",
    "\n",
    "\n",
    "# Step 2: Install psycopg2\n",
    "# pip install psycopg2\n",
    "\n",
    "#Step 3: Install config\n",
    "# pip install config"
   ]
  },
  {
   "cell_type": "code",
   "execution_count": 3,
   "metadata": {},
   "outputs": [],
   "source": [
    "import psycopg2\n",
    "#from config import Config\n",
    "from config import config\n",
    "\n",
    "# Adapted from https://stackoverflow.com/a/58136849"
   ]
  },
  {
   "cell_type": "code",
   "execution_count": 4,
   "metadata": {},
   "outputs": [],
   "source": [
    "# Connect in python to the database by creating a cursor object\n",
    "\n",
    "# You can specify a \"port\" parameter, the default port is 5432\n",
    "\n",
    "# conn = psycopg2.connect(\"dbname=suppliers user=postgres password=postgres\")\n",
    "\n",
    "# Or:\n",
    "\n",
    "conn = psycopg2.connect(host=\"localhost\",database=\"suppliers\", user=\"postgres\", password=\"postgres\")"
   ]
  },
  {
   "cell_type": "markdown",
   "metadata": {},
   "source": [
    "Instead of typing all parameters in the cursor you can use a `.ini` (initialization/configuration) file to store the information. This file will be written in a `postgresql` style format.\n",
    "\n",
    "A function in the `config.py` file returns the parameters in a psycopg2 friendly format."
   ]
  },
  {
   "cell_type": "code",
   "execution_count": 5,
   "metadata": {},
   "outputs": [
    {
     "name": "stdout",
     "output_type": "stream",
     "text": [
      "{'host': 'localhost', 'database': 'suppliers', 'user': 'postgres', 'password': 'postgres'}\n"
     ]
    }
   ],
   "source": [
    "params = config()\n",
    "print(params)"
   ]
  },
  {
   "cell_type": "code",
   "execution_count": 6,
   "metadata": {},
   "outputs": [],
   "source": [
    "def connect():\n",
    "    \"\"\" Connect to the PostgreSQL database server \"\"\"\n",
    "    conn = None\n",
    "    try:\n",
    "        # read connection parameters\n",
    "        params = config()\n",
    " \n",
    "        # connect to the PostgreSQL server\n",
    "        print('Connecting to the PostgreSQL database...')\n",
    "        conn = psycopg2.connect(**params)\n",
    "      \n",
    "        # create a cursor\n",
    "        cur = conn.cursor()\n",
    "        \n",
    "   # execute a statement\n",
    "        print('PostgreSQL database version:')\n",
    "        cur.execute('SELECT version()')\n",
    " \n",
    "        # display the PostgreSQL database server version\n",
    "        db_version = cur.fetchone()\n",
    "        print(db_version)\n",
    "       \n",
    "       # close the communication with the PostgreSQL\n",
    "        cur.close()\n",
    "    except (Exception, psycopg2.DatabaseError) as error:\n",
    "        print(error)\n",
    "    finally:\n",
    "        if conn is not None:\n",
    "            conn.close()\n",
    "            print('Database connection closed.')"
   ]
  },
  {
   "cell_type": "code",
   "execution_count": 7,
   "metadata": {
    "scrolled": true
   },
   "outputs": [
    {
     "name": "stdout",
     "output_type": "stream",
     "text": [
      "Connecting to the PostgreSQL database...\n",
      "PostgreSQL database version:\n",
      "('PostgreSQL 12.0 on x86_64-apple-darwin16.7.0, compiled by Apple LLVM version 8.1.0 (clang-802.0.42), 64-bit',)\n",
      "Database connection closed.\n"
     ]
    }
   ],
   "source": [
    "# https://stackoverflow.com/questions/419163/what-does-if-name-main-do\n",
    "\n",
    "# This file is the main file, not the imported config file.\n",
    "\n",
    "if __name__ == '__main__':\n",
    "    connect()"
   ]
  },
  {
   "cell_type": "markdown",
   "metadata": {},
   "source": [
    "# Step 2: A Function That Executes Commands"
   ]
  },
  {
   "cell_type": "code",
   "execution_count": 8,
   "metadata": {},
   "outputs": [],
   "source": [
    "# This function will execute commands NOT display results of queries!\n",
    "\n",
    "def execute_commands(psql_commands):\n",
    "    \n",
    "    conn = None\n",
    "    \n",
    "    try:\n",
    "        # read the connection parameters\n",
    "        # The connection parameters are listed in the files\n",
    "        # 'config.py' and 'database.ini'\n",
    "        params = config()\n",
    "        \n",
    "        # connect to the PostgreSQL server\n",
    "        # Info on args vs kwargs: http://book.pythontips.com/en/latest/args_and_kwargs.html\n",
    "        conn = psycopg2.connect(**params)\n",
    "        cur = conn.cursor()\n",
    "        \n",
    "        try:\n",
    "            # If psql_commands is not a list\n",
    "            cur.execute(psql_commands)\n",
    "            \n",
    "        except:\n",
    "            # create table one by one\n",
    "            for command in psql_commands:\n",
    "                cur.execute(command)\n",
    "\n",
    "        \n",
    "        # close communication with the PostgreSQL database server\n",
    "        cur.close()\n",
    "        \n",
    "        # commit the changes\n",
    "        conn.commit()\n",
    "        \n",
    "    # Print error if any portion of the try statement fails\n",
    "    except (Exception, psycopg2.DatabaseError) as error:\n",
    "        print(error)\n",
    "    \n",
    "    # Close the connection \n",
    "    finally:\n",
    "        if conn is not None:\n",
    "            conn.close()"
   ]
  },
  {
   "cell_type": "markdown",
   "metadata": {},
   "source": [
    "# Step 3: Create Tables\n",
    "\n",
    "Source: http://www.postgresqltutorial.com/postgresql-python/create-tables/"
   ]
  },
  {
   "cell_type": "code",
   "execution_count": 9,
   "metadata": {},
   "outputs": [],
   "source": [
    "# This statement creates four tables within the 'supplies' database\n",
    "\n",
    "\"\"\" create tables in the PostgreSQL database\"\"\"\n",
    "create_table_commands = (\n",
    "        \"\"\"\n",
    "        CREATE TABLE vendors (\n",
    "            vendor_id SERIAL PRIMARY KEY,\n",
    "            vendor_name VARCHAR(255) NOT NULL\n",
    "        )\n",
    "        \"\"\",\n",
    "        \"\"\" CREATE TABLE parts (\n",
    "                part_id SERIAL PRIMARY KEY,\n",
    "                part_name VARCHAR(255) NOT NULL\n",
    "                )\n",
    "        \"\"\",\n",
    "        \"\"\"\n",
    "        CREATE TABLE part_drawings (\n",
    "                part_id INTEGER PRIMARY KEY,\n",
    "                file_extension VARCHAR(5) NOT NULL,\n",
    "                drawing_data BYTEA NOT NULL,\n",
    "                FOREIGN KEY (part_id)\n",
    "                REFERENCES parts (part_id)\n",
    "                ON UPDATE CASCADE ON DELETE CASCADE\n",
    "        )\n",
    "        \"\"\",\n",
    "        \"\"\"\n",
    "        CREATE TABLE vendor_parts (\n",
    "                vendor_id INTEGER NOT NULL,\n",
    "                part_id INTEGER NOT NULL,\n",
    "                PRIMARY KEY (vendor_id , part_id),\n",
    "                FOREIGN KEY (vendor_id)\n",
    "                    REFERENCES vendors (vendor_id)\n",
    "                    ON UPDATE CASCADE ON DELETE CASCADE,\n",
    "                FOREIGN KEY (part_id)\n",
    "                    REFERENCES parts (part_id)\n",
    "                    ON UPDATE CASCADE ON DELETE CASCADE\n",
    "        )\n",
    "        \"\"\")"
   ]
  },
  {
   "cell_type": "code",
   "execution_count": 10,
   "metadata": {},
   "outputs": [],
   "source": [
    "if __name__ == '__main__':\n",
    "    execute_commands(create_table_commands)"
   ]
  },
  {
   "cell_type": "code",
   "execution_count": 11,
   "metadata": {},
   "outputs": [
    {
     "name": "stdout",
     "output_type": "stream",
     "text": [
      "[('parts',), ('part_drawings',), ('vendors',), ('vendor_parts',)]\n"
     ]
    }
   ],
   "source": [
    "params = config()\n",
    "        \n",
    "# connect to the PostgreSQL server\n",
    "# Info on args vs kwargs: http://book.pythontips.com/en/latest/args_and_kwargs.html\n",
    "conn = psycopg2.connect(**params)\n",
    "cur = conn.cursor()\n",
    "\n",
    "cur.execute(\"\"\"SELECT table_name FROM information_schema.tables\n",
    "       WHERE table_schema = 'public';\"\"\")\n",
    "print (cur.fetchall())\n",
    "\n",
    "# for table in cur.fetchall():\n",
    "#     print(table)\n",
    "    \n",
    "cur.close()\n",
    "conn.commit()\n"
   ]
  },
  {
   "cell_type": "markdown",
   "metadata": {},
   "source": [
    "# Step 4: Insert Data Into A Table\n",
    "\n",
    "\n",
    "Source: http://www.postgresqltutorial.com/postgresql-python/insert/\n",
    "\n",
    "The end of the try statement is the only part that is changed within the function in step 2"
   ]
  },
  {
   "cell_type": "code",
   "execution_count": 12,
   "metadata": {},
   "outputs": [],
   "source": [
    "def insert_vendor(vendor_name):\n",
    "    \"\"\" insert a new vendor into the vendors table \"\"\"\n",
    "    sql = \"\"\"INSERT INTO vendors(vendor_name)\n",
    "             VALUES(%s) RETURNING vendor_id;\"\"\"\n",
    "    conn = None\n",
    "    vendor_id = None\n",
    "    try:\n",
    "        # read database configuration\n",
    "        params = config()\n",
    "        # connect to the PostgreSQL database\n",
    "        conn = psycopg2.connect(**params)\n",
    "        # create a new cursor\n",
    "        cur = conn.cursor()\n",
    "        # execute the INSERT statement\n",
    "        cur.execute(sql, (vendor_name,))\n",
    "        \n",
    "        # get the generated id back\n",
    "        vendor_id = cur.fetchone()[0]\n",
    "        # commit the changes to the database\n",
    "        conn.commit()\n",
    "        # close communication with the database\n",
    "        cur.close()\n",
    "    except (Exception, psycopg2.DatabaseError) as error:\n",
    "        print(error)\n",
    "    finally:\n",
    "        if conn is not None:\n",
    "            conn.close()\n",
    " \n",
    "    return vendor_id"
   ]
  },
  {
   "cell_type": "code",
   "execution_count": 13,
   "metadata": {},
   "outputs": [],
   "source": [
    "if __name__ == '__main__':\n",
    "    # insert one vendor\n",
    "    insert_vendor(\"3M Co.\")"
   ]
  },
  {
   "cell_type": "code",
   "execution_count": 14,
   "metadata": {},
   "outputs": [],
   "source": [
    "def insert_vendor_list(vendor_list):\n",
    "    \"\"\" insert multiple vendors into the vendors table  \"\"\"\n",
    "    sql = \"INSERT INTO vendors(vendor_name) VALUES(%s)\"\n",
    "    conn = None\n",
    "    try:\n",
    "        # read database configuration\n",
    "        params = config()\n",
    "        # connect to the PostgreSQL database\n",
    "        conn = psycopg2.connect(**params)\n",
    "        # create a new cursor\n",
    "        cur = conn.cursor()\n",
    "        # execute the INSERT statement\n",
    "        cur.executemany(sql,vendor_list)\n",
    "        \n",
    "        # commit the changes to the database\n",
    "        conn.commit()\n",
    "        # close communication with the database\n",
    "        cur.close()\n",
    "    except (Exception, psycopg2.DatabaseError) as error:\n",
    "        print(error)\n",
    "    finally:\n",
    "        if conn is not None:\n",
    "            conn.close()"
   ]
  },
  {
   "cell_type": "code",
   "execution_count": 15,
   "metadata": {},
   "outputs": [],
   "source": [
    "if __name__ == '__main__':\n",
    "    # insert multiple vendors\n",
    "    insert_vendor_list([\n",
    "        ('AKM Semiconductor Inc.',),\n",
    "        ('Asahi Glass Co Ltd.',),\n",
    "        ('Daikin Industries Ltd.',),\n",
    "        ('Dynacast International Inc.',),\n",
    "        ('Foster Electric Co. Ltd.',),\n",
    "        ('Murata Manufacturing Co. Ltd.',)\n",
    "    ])"
   ]
  },
  {
   "cell_type": "markdown",
   "metadata": {},
   "source": [
    "# Step 5: Updating Data\n",
    "\n",
    "Source: http://www.postgresqltutorial.com/postgresql-python/update/"
   ]
  },
  {
   "cell_type": "code",
   "execution_count": 30,
   "metadata": {},
   "outputs": [],
   "source": [
    "def query_db(query):\n",
    "    # read database configuration\n",
    "    params = config()\n",
    "    # connect to the PostgreSQL database\n",
    "    conn = psycopg2.connect(**params)\n",
    "    # create a new cursor\n",
    "    cur = conn.cursor()\n",
    "    # execute the INSERT statement\n",
    "    cur.execute(query)\n",
    "    # # get the query results\n",
    "    query_results = cur.fetchall()\n",
    "    # commit the changes to the database\n",
    "    conn.commit()\n",
    "    # close communication with the database\n",
    "    cur.close()\n",
    "    return query_results"
   ]
  },
  {
   "cell_type": "code",
   "execution_count": 32,
   "metadata": {},
   "outputs": [],
   "source": [
    "def update_vendor(vendor_id, vendor_name):\n",
    "    \"\"\" update vendor name based on the vendor id \"\"\"\n",
    "    sql = \"\"\" UPDATE vendors\n",
    "                SET vendor_name = %s\n",
    "                WHERE vendor_id = %s\"\"\"\n",
    "    conn = None\n",
    "    updated_rows = 0\n",
    "    try:\n",
    "        # read database configuration\n",
    "        params = config()\n",
    "        # connect to the PostgreSQL database\n",
    "        conn = psycopg2.connect(**params)\n",
    "        # create a new cursor\n",
    "        cur = conn.cursor()\n",
    "        # execute the UPDATE  statement\n",
    "        cur.execute(sql, (vendor_name, vendor_id))\n",
    "        # get the number of updated rows\n",
    "        updated_rows = cur.rowcount\n",
    "        # Commit the changes to the database\n",
    "        conn.commit()\n",
    "        # Close communication with the PostgreSQL database\n",
    "        cur.close()\n",
    "    except (Exception, psycopg2.DatabaseError) as error:\n",
    "        print(error)\n",
    "    finally:\n",
    "        if conn is not None:\n",
    "            conn.close()\n",
    " \n",
    "    return updated_rows"
   ]
  },
  {
   "cell_type": "code",
   "execution_count": 33,
   "metadata": {},
   "outputs": [
    {
     "data": {
      "text/plain": [
       "[(1, '3M Co.')]"
      ]
     },
     "execution_count": 33,
     "metadata": {},
     "output_type": "execute_result"
    }
   ],
   "source": [
    "query_db(\"\"\"SELECT * FROM vendors WHERE vendor_id = 1\"\"\")"
   ]
  },
  {
   "cell_type": "code",
   "execution_count": 34,
   "metadata": {},
   "outputs": [
    {
     "data": {
      "text/plain": [
       "1"
      ]
     },
     "execution_count": 34,
     "metadata": {},
     "output_type": "execute_result"
    }
   ],
   "source": [
    "update_vendor(\"1\", \"3M Corp\")"
   ]
  },
  {
   "cell_type": "code",
   "execution_count": 35,
   "metadata": {
    "scrolled": true
   },
   "outputs": [
    {
     "data": {
      "text/plain": [
       "[(1, '3M Corp')]"
      ]
     },
     "execution_count": 35,
     "metadata": {},
     "output_type": "execute_result"
    }
   ],
   "source": [
    "query_db(\"\"\"SELECT * FROM vendors WHERE vendor_id = 1\"\"\")"
   ]
  },
  {
   "cell_type": "markdown",
   "metadata": {},
   "source": [
    "# Step 6: Querying Data\n",
    "\n",
    "\n",
    "## Part A: with cursor only\n",
    "Source: http://www.postgresqltutorial.com/postgresql-python/query/"
   ]
  },
  {
   "cell_type": "code",
   "execution_count": 58,
   "metadata": {},
   "outputs": [],
   "source": [
    "def query_db(query):\n",
    "    \n",
    "    query_results = []\n",
    "    \n",
    "    try:\n",
    "        # read database configuration\n",
    "        params = config()\n",
    "        # connect to the PostgreSQL database\n",
    "        conn = psycopg2.connect(**params)\n",
    "        # create a new cursor\n",
    "        cur = conn.cursor()\n",
    "\n",
    "        # execute the INSERT statement\n",
    "        cur.execute(query)\n",
    "        print(\"The number of results: \", cur.rowcount)\n",
    "\n",
    "        # # get the query results\n",
    "        query_results = cur.fetchall()\n",
    "\n",
    "        # close communication with the database\n",
    "        cur.close()\n",
    "    \n",
    "    except (Exception, psycopg2.DatabaseError) as error:\n",
    "        print(error)\n",
    "    \n",
    "    finally:\n",
    "        if conn is not None:\n",
    "            conn.close()\n",
    "    if query_results:\n",
    "        return query_results\n"
   ]
  },
  {
   "cell_type": "code",
   "execution_count": 61,
   "metadata": {},
   "outputs": [
    {
     "name": "stdout",
     "output_type": "stream",
     "text": [
      "The number of results:  7\n"
     ]
    }
   ],
   "source": [
    "q = query_db(\"SELECT vendor_id, vendor_name FROM vendors ORDER BY vendor_name\")"
   ]
  },
  {
   "cell_type": "code",
   "execution_count": 62,
   "metadata": {},
   "outputs": [
    {
     "data": {
      "text/plain": [
       "[(1, '3M Corp'),\n",
       " (2, 'AKM Semiconductor Inc.'),\n",
       " (3, 'Asahi Glass Co Ltd.'),\n",
       " (4, 'Daikin Industries Ltd.'),\n",
       " (5, 'Dynacast International Inc.'),\n",
       " (6, 'Foster Electric Co. Ltd.'),\n",
       " (7, 'Murata Manufacturing Co. Ltd.')]"
      ]
     },
     "execution_count": 62,
     "metadata": {},
     "output_type": "execute_result"
    }
   ],
   "source": [
    "q"
   ]
  },
  {
   "cell_type": "markdown",
   "metadata": {},
   "source": [
    "## Part B: With Pandas"
   ]
  },
  {
   "cell_type": "code",
   "execution_count": 65,
   "metadata": {},
   "outputs": [],
   "source": [
    "import pandas as pd"
   ]
  },
  {
   "cell_type": "code",
   "execution_count": 63,
   "metadata": {},
   "outputs": [],
   "source": [
    "def print_table_contents(table_name, query, database = psycopg2.connect(**params)):\n",
    "    results = []\n",
    "    cursor = database.cursor()\n",
    "    cursor.execute(\"SELECT {} FROM {};\".format(query, table_name))\n",
    "    results = cursor.fetchall()\n",
    "    cursor.close()\n",
    "    database.close()\n",
    "    return results"
   ]
  },
  {
   "cell_type": "code",
   "execution_count": 64,
   "metadata": {},
   "outputs": [
    {
     "data": {
      "text/plain": [
       "[(2, 'AKM Semiconductor Inc.'),\n",
       " (3, 'Asahi Glass Co Ltd.'),\n",
       " (4, 'Daikin Industries Ltd.'),\n",
       " (5, 'Dynacast International Inc.'),\n",
       " (6, 'Foster Electric Co. Ltd.'),\n",
       " (7, 'Murata Manufacturing Co. Ltd.'),\n",
       " (1, '3M Corp')]"
      ]
     },
     "execution_count": 64,
     "metadata": {},
     "output_type": "execute_result"
    }
   ],
   "source": [
    "print_table_contents(\"vendors\", \"*\")"
   ]
  },
  {
   "cell_type": "code",
   "execution_count": 66,
   "metadata": {},
   "outputs": [],
   "source": [
    "def create_pandas_table(sql_query, database = psycopg2.connect(**params)):\n",
    "    table = pd.read_sql_query(sql_query, database)\n",
    "    database.close()\n",
    "    return table"
   ]
  },
  {
   "cell_type": "code",
   "execution_count": 67,
   "metadata": {},
   "outputs": [
    {
     "data": {
      "text/html": [
       "<div>\n",
       "<style scoped>\n",
       "    .dataframe tbody tr th:only-of-type {\n",
       "        vertical-align: middle;\n",
       "    }\n",
       "\n",
       "    .dataframe tbody tr th {\n",
       "        vertical-align: top;\n",
       "    }\n",
       "\n",
       "    .dataframe thead th {\n",
       "        text-align: right;\n",
       "    }\n",
       "</style>\n",
       "<table border=\"1\" class=\"dataframe\">\n",
       "  <thead>\n",
       "    <tr style=\"text-align: right;\">\n",
       "      <th></th>\n",
       "      <th>vendor_id</th>\n",
       "      <th>vendor_name</th>\n",
       "    </tr>\n",
       "  </thead>\n",
       "  <tbody>\n",
       "    <tr>\n",
       "      <th>0</th>\n",
       "      <td>1</td>\n",
       "      <td>3M Corp</td>\n",
       "    </tr>\n",
       "    <tr>\n",
       "      <th>1</th>\n",
       "      <td>2</td>\n",
       "      <td>AKM Semiconductor Inc.</td>\n",
       "    </tr>\n",
       "    <tr>\n",
       "      <th>2</th>\n",
       "      <td>3</td>\n",
       "      <td>Asahi Glass Co Ltd.</td>\n",
       "    </tr>\n",
       "    <tr>\n",
       "      <th>3</th>\n",
       "      <td>4</td>\n",
       "      <td>Daikin Industries Ltd.</td>\n",
       "    </tr>\n",
       "    <tr>\n",
       "      <th>4</th>\n",
       "      <td>5</td>\n",
       "      <td>Dynacast International Inc.</td>\n",
       "    </tr>\n",
       "    <tr>\n",
       "      <th>5</th>\n",
       "      <td>6</td>\n",
       "      <td>Foster Electric Co. Ltd.</td>\n",
       "    </tr>\n",
       "    <tr>\n",
       "      <th>6</th>\n",
       "      <td>7</td>\n",
       "      <td>Murata Manufacturing Co. Ltd.</td>\n",
       "    </tr>\n",
       "  </tbody>\n",
       "</table>\n",
       "</div>"
      ],
      "text/plain": [
       "   vendor_id                    vendor_name\n",
       "0          1                        3M Corp\n",
       "1          2         AKM Semiconductor Inc.\n",
       "2          3            Asahi Glass Co Ltd.\n",
       "3          4         Daikin Industries Ltd.\n",
       "4          5    Dynacast International Inc.\n",
       "5          6       Foster Electric Co. Ltd.\n",
       "6          7  Murata Manufacturing Co. Ltd."
      ]
     },
     "execution_count": 67,
     "metadata": {},
     "output_type": "execute_result"
    }
   ],
   "source": [
    "create_pandas_table(\"SELECT vendor_id, vendor_name FROM vendors ORDER BY vendor_name\")"
   ]
  },
  {
   "cell_type": "code",
   "execution_count": null,
   "metadata": {},
   "outputs": [],
   "source": []
  }
 ],
 "metadata": {
  "kernelspec": {
   "display_name": "Python 3",
   "language": "python",
   "name": "python3"
  },
  "language_info": {
   "codemirror_mode": {
    "name": "ipython",
    "version": 3
   },
   "file_extension": ".py",
   "mimetype": "text/x-python",
   "name": "python",
   "nbconvert_exporter": "python",
   "pygments_lexer": "ipython3",
   "version": "3.7.2"
  }
 },
 "nbformat": 4,
 "nbformat_minor": 2
}
