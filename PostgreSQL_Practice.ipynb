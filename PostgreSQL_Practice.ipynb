{
 "cells": [
  {
   "cell_type": "markdown",
   "metadata": {},
   "source": [
    "# PostgreSQL Practice\n",
    "\n",
    "This notebook will contain the work associated with postgresqltutorial.com's python tutorial\n",
    "\n",
    "Source: http://www.postgresqltutorial.com/postgresql-python/\n",
    "\n",
    "## Step 1: Create and connect to the 'suppliers' database in terminal\n",
    "\n",
    "Enter `/Applications/Postgres.app/Contents/Versions/12/bin/psql -p5432 \"database_name\"` where `database_name` is any existing database or the psql command if you already configured it"
   ]
  },
  {
   "cell_type": "code",
   "execution_count": 1,
   "metadata": {},
   "outputs": [],
   "source": [
    "# THIS WAS THE ORIGINAL ATTEMPT IGNORE IT\n",
    "\n",
    "# Steps adapted from https://stackoverflow.com/a/46877364\n",
    "\n",
    "# Install psycopg2 if not already on your computer\n",
    "\n",
    "# Step 1: Attempt to run the following in command line (Python 3):\n",
    "# sudo apt install libpq-dev python3-dev\n",
    "\n",
    "# A Java pop-up request may tell you:\n",
    "# \"To use the “apt” command-line tool you need to install a JDK.\" (Java Developer Kit)\n",
    "# This is because this package is written in C and adapted for python\n",
    "\n",
    "# You have a few options for each operating system compressed and uncompressed,\n",
    "# I selected jdk-13.0.1_osx-x64_bin.dmg\n",
    "# Run the sudo command after installation \n",
    "\n",
    "\n",
    "\n",
    "#!pip install psycopg2\n",
    "\n",
    "# If you are still having trouble try updating setup tools\n",
    "# !pip install --upgrade pip setuptools\n",
    "\n",
    "#sudo -H pip3 install gitsome"
   ]
  },
  {
   "cell_type": "code",
   "execution_count": 2,
   "metadata": {},
   "outputs": [],
   "source": [
    "# Adapted from https://stackoverflow.com/a/24645416\n",
    "\n",
    "# You need homebrew for this version\n",
    "\n",
    "# Step 1: Install Postgresql in terminal:\n",
    "# brew install postgresql\n",
    "\n",
    "\n",
    "# Step 2: Install psycopg2\n",
    "# pip install psycopg2\n",
    "\n",
    "#Step 3: Install config\n",
    "# pip install config"
   ]
  },
  {
   "cell_type": "code",
   "execution_count": 3,
   "metadata": {},
   "outputs": [],
   "source": [
    "import psycopg2\n",
    "#from config import Config\n",
    "from config import config\n",
    "\n",
    "# Adapted from https://stackoverflow.com/a/58136849"
   ]
  },
  {
   "cell_type": "code",
   "execution_count": 4,
   "metadata": {},
   "outputs": [],
   "source": [
    "# Connect in python to the database by creating a cursor object\n",
    "\n",
    "# You can specify a \"port\" parameter, the default port is 5432\n",
    "\n",
    "# conn = psycopg2.connect(\"dbname=suppliers user=postgres password=postgres\")\n",
    "\n",
    "# Or:\n",
    "\n",
    "conn = psycopg2.connect(host=\"localhost\",database=\"suppliers\", user=\"postgres\", password=\"postgres\")"
   ]
  },
  {
   "cell_type": "markdown",
   "metadata": {},
   "source": [
    "Instead of typing all parameters in the cursor you can use a `.ini` (initialization/configuration) file to store the information. This file will be written in a `postgresql` style format.\n",
    "\n",
    "A function in the `config.py` file returns the parameters in a psycopg2 friendly format."
   ]
  },
  {
   "cell_type": "code",
   "execution_count": 5,
   "metadata": {},
   "outputs": [
    {
     "name": "stdout",
     "output_type": "stream",
     "text": [
      "{'host': 'localhost', 'database': 'suppliers', 'user': 'postgres', 'password': 'postgres'}\n"
     ]
    }
   ],
   "source": [
    "params = config()\n",
    "print(params)"
   ]
  },
  {
   "cell_type": "code",
   "execution_count": null,
   "metadata": {},
   "outputs": [],
   "source": [
    "def connect():\n",
    "    \"\"\" Connect to the PostgreSQL database server \"\"\"\n",
    "    conn = None\n",
    "    try:\n",
    "        # read connection parameters\n",
    "        params = config()\n",
    " \n",
    "        # connect to the PostgreSQL server\n",
    "        print('Connecting to the PostgreSQL database...')\n",
    "        conn = psycopg2.connect(**params)\n",
    "      \n",
    "        # create a cursor\n",
    "        cur = conn.cursor()\n",
    "        \n",
    "   # execute a statement\n",
    "        print('PostgreSQL database version:')\n",
    "        cur.execute('SELECT version()')\n",
    " \n",
    "        # display the PostgreSQL database server version\n",
    "        db_version = cur.fetchone()\n",
    "        print(db_version)\n",
    "       \n",
    "       # close the communication with the PostgreSQL\n",
    "        cur.close()\n",
    "    except (Exception, psycopg2.DatabaseError) as error:\n",
    "        print(error)\n",
    "    finally:\n",
    "        if conn is not None:\n",
    "            conn.close()\n",
    "            print('Database connection closed.')\n",
    " \n",
    " \n",
    "if __name__ == '__main__':\n",
    "    connect()"
   ]
  }
 ],
 "metadata": {
  "kernelspec": {
   "display_name": "Python 3",
   "language": "python",
   "name": "python3"
  },
  "language_info": {
   "codemirror_mode": {
    "name": "ipython",
    "version": 3
   },
   "file_extension": ".py",
   "mimetype": "text/x-python",
   "name": "python",
   "nbconvert_exporter": "python",
   "pygments_lexer": "ipython3",
   "version": "3.7.2"
  }
 },
 "nbformat": 4,
 "nbformat_minor": 2
}
